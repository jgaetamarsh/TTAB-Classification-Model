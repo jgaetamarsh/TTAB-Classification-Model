{
 "cells": [
  {
   "cell_type": "code",
   "execution_count": 1,
   "metadata": {},
   "outputs": [],
   "source": [
    "import pandas as pd\n",
    "import matplotlib as plot\n",
    "import numpy as np\n",
    "import scipy as sp\n",
    "import sys\n",
    "import IPython\n",
    "import sklearn\n",
    "import mglearn"
   ]
  },
  {
   "cell_type": "code",
   "execution_count": 2,
   "metadata": {},
   "outputs": [],
   "source": [
    "df = pd.read_csv('cleanTTAB.csv', encoding= 'unicode_escape') #this is the basic dataset"
   ]
  },
  {
   "cell_type": "code",
   "execution_count": 3,
   "metadata": {},
   "outputs": [
    {
     "name": "stdout",
     "output_type": "stream",
     "text": [
      "Confusion          int64\n",
      "Design             int64\n",
      "PType              int64\n",
      "Ratio            float64\n",
      "Distinctive        int64\n",
      "Sum                int64\n",
      "Goods              int64\n",
      "DisclaimerCOP      int64\n",
      "DisclaimerAR       int64\n",
      "dtype: object\n"
     ]
    }
   ],
   "source": [
    "print(df.dtypes)"
   ]
  },
  {
   "cell_type": "code",
   "execution_count": 4,
   "metadata": {},
   "outputs": [
    {
     "data": {
      "text/plain": [
       "(322, 9)"
      ]
     },
     "execution_count": 4,
     "metadata": {},
     "output_type": "execute_result"
    }
   ],
   "source": [
    "df.shape"
   ]
  },
  {
   "cell_type": "code",
   "execution_count": 5,
   "metadata": {},
   "outputs": [
    {
     "name": "stdout",
     "output_type": "stream",
     "text": [
      "Index(['Confusion', 'Design', 'PType', 'Ratio', 'Distinctive', 'Sum', 'Goods',\n",
      "       'DisclaimerCOP', 'DisclaimerAR'],\n",
      "      dtype='object')\n"
     ]
    }
   ],
   "source": [
    "print(df.columns)"
   ]
  },
  {
   "cell_type": "code",
   "execution_count": 6,
   "metadata": {},
   "outputs": [
    {
     "data": {
      "text/html": [
       "<div>\n",
       "<style scoped>\n",
       "    .dataframe tbody tr th:only-of-type {\n",
       "        vertical-align: middle;\n",
       "    }\n",
       "\n",
       "    .dataframe tbody tr th {\n",
       "        vertical-align: top;\n",
       "    }\n",
       "\n",
       "    .dataframe thead th {\n",
       "        text-align: right;\n",
       "    }\n",
       "</style>\n",
       "<table border=\"1\" class=\"dataframe\">\n",
       "  <thead>\n",
       "    <tr style=\"text-align: right;\">\n",
       "      <th></th>\n",
       "      <th>Confusion</th>\n",
       "      <th>Design</th>\n",
       "      <th>PType</th>\n",
       "      <th>Ratio</th>\n",
       "      <th>Distinctive</th>\n",
       "      <th>Sum</th>\n",
       "      <th>Goods</th>\n",
       "      <th>DisclaimerCOP</th>\n",
       "      <th>DisclaimerAR</th>\n",
       "    </tr>\n",
       "  </thead>\n",
       "  <tbody>\n",
       "    <tr>\n",
       "      <th>count</th>\n",
       "      <td>322.000000</td>\n",
       "      <td>322.000000</td>\n",
       "      <td>322.000000</td>\n",
       "      <td>322.000000</td>\n",
       "      <td>322.000000</td>\n",
       "      <td>322.000000</td>\n",
       "      <td>322.000000</td>\n",
       "      <td>322.000000</td>\n",
       "      <td>322.000000</td>\n",
       "    </tr>\n",
       "    <tr>\n",
       "      <th>mean</th>\n",
       "      <td>0.779503</td>\n",
       "      <td>0.093168</td>\n",
       "      <td>1.409938</td>\n",
       "      <td>0.645311</td>\n",
       "      <td>3.121118</td>\n",
       "      <td>6.378882</td>\n",
       "      <td>2.391304</td>\n",
       "      <td>0.257764</td>\n",
       "      <td>0.360248</td>\n",
       "    </tr>\n",
       "    <tr>\n",
       "      <th>std</th>\n",
       "      <td>0.415227</td>\n",
       "      <td>0.291120</td>\n",
       "      <td>0.636110</td>\n",
       "      <td>0.257732</td>\n",
       "      <td>1.136037</td>\n",
       "      <td>1.538475</td>\n",
       "      <td>0.707538</td>\n",
       "      <td>0.438084</td>\n",
       "      <td>0.480820</td>\n",
       "    </tr>\n",
       "    <tr>\n",
       "      <th>min</th>\n",
       "      <td>0.000000</td>\n",
       "      <td>0.000000</td>\n",
       "      <td>1.000000</td>\n",
       "      <td>0.000000</td>\n",
       "      <td>1.000000</td>\n",
       "      <td>3.000000</td>\n",
       "      <td>1.000000</td>\n",
       "      <td>0.000000</td>\n",
       "      <td>0.000000</td>\n",
       "    </tr>\n",
       "    <tr>\n",
       "      <th>25%</th>\n",
       "      <td>1.000000</td>\n",
       "      <td>0.000000</td>\n",
       "      <td>1.000000</td>\n",
       "      <td>0.442500</td>\n",
       "      <td>2.000000</td>\n",
       "      <td>6.000000</td>\n",
       "      <td>2.000000</td>\n",
       "      <td>0.000000</td>\n",
       "      <td>0.000000</td>\n",
       "    </tr>\n",
       "    <tr>\n",
       "      <th>50%</th>\n",
       "      <td>1.000000</td>\n",
       "      <td>0.000000</td>\n",
       "      <td>1.000000</td>\n",
       "      <td>0.630000</td>\n",
       "      <td>3.000000</td>\n",
       "      <td>6.000000</td>\n",
       "      <td>3.000000</td>\n",
       "      <td>0.000000</td>\n",
       "      <td>0.000000</td>\n",
       "    </tr>\n",
       "    <tr>\n",
       "      <th>75%</th>\n",
       "      <td>1.000000</td>\n",
       "      <td>0.000000</td>\n",
       "      <td>2.000000</td>\n",
       "      <td>0.890000</td>\n",
       "      <td>4.000000</td>\n",
       "      <td>7.000000</td>\n",
       "      <td>3.000000</td>\n",
       "      <td>1.000000</td>\n",
       "      <td>1.000000</td>\n",
       "    </tr>\n",
       "    <tr>\n",
       "      <th>max</th>\n",
       "      <td>1.000000</td>\n",
       "      <td>1.000000</td>\n",
       "      <td>3.000000</td>\n",
       "      <td>1.000000</td>\n",
       "      <td>6.000000</td>\n",
       "      <td>9.000000</td>\n",
       "      <td>3.000000</td>\n",
       "      <td>1.000000</td>\n",
       "      <td>1.000000</td>\n",
       "    </tr>\n",
       "  </tbody>\n",
       "</table>\n",
       "</div>"
      ],
      "text/plain": [
       "        Confusion      Design       PType       Ratio  Distinctive  \\\n",
       "count  322.000000  322.000000  322.000000  322.000000   322.000000   \n",
       "mean     0.779503    0.093168    1.409938    0.645311     3.121118   \n",
       "std      0.415227    0.291120    0.636110    0.257732     1.136037   \n",
       "min      0.000000    0.000000    1.000000    0.000000     1.000000   \n",
       "25%      1.000000    0.000000    1.000000    0.442500     2.000000   \n",
       "50%      1.000000    0.000000    1.000000    0.630000     3.000000   \n",
       "75%      1.000000    0.000000    2.000000    0.890000     4.000000   \n",
       "max      1.000000    1.000000    3.000000    1.000000     6.000000   \n",
       "\n",
       "              Sum       Goods  DisclaimerCOP  DisclaimerAR  \n",
       "count  322.000000  322.000000     322.000000    322.000000  \n",
       "mean     6.378882    2.391304       0.257764      0.360248  \n",
       "std      1.538475    0.707538       0.438084      0.480820  \n",
       "min      3.000000    1.000000       0.000000      0.000000  \n",
       "25%      6.000000    2.000000       0.000000      0.000000  \n",
       "50%      6.000000    3.000000       0.000000      0.000000  \n",
       "75%      7.000000    3.000000       1.000000      1.000000  \n",
       "max      9.000000    3.000000       1.000000      1.000000  "
      ]
     },
     "execution_count": 6,
     "metadata": {},
     "output_type": "execute_result"
    }
   ],
   "source": [
    "df.describe()"
   ]
  },
  {
   "cell_type": "code",
   "execution_count": 7,
   "metadata": {},
   "outputs": [],
   "source": [
    "dfnc = df.loc[df['Confusion'] == 0]"
   ]
  },
  {
   "cell_type": "code",
   "execution_count": 8,
   "metadata": {},
   "outputs": [
    {
     "data": {
      "text/html": [
       "<div>\n",
       "<style scoped>\n",
       "    .dataframe tbody tr th:only-of-type {\n",
       "        vertical-align: middle;\n",
       "    }\n",
       "\n",
       "    .dataframe tbody tr th {\n",
       "        vertical-align: top;\n",
       "    }\n",
       "\n",
       "    .dataframe thead th {\n",
       "        text-align: right;\n",
       "    }\n",
       "</style>\n",
       "<table border=\"1\" class=\"dataframe\">\n",
       "  <thead>\n",
       "    <tr style=\"text-align: right;\">\n",
       "      <th></th>\n",
       "      <th>Confusion</th>\n",
       "      <th>Design</th>\n",
       "      <th>PType</th>\n",
       "      <th>Ratio</th>\n",
       "      <th>Distinctive</th>\n",
       "      <th>Sum</th>\n",
       "      <th>Goods</th>\n",
       "      <th>DisclaimerCOP</th>\n",
       "      <th>DisclaimerAR</th>\n",
       "    </tr>\n",
       "  </thead>\n",
       "  <tbody>\n",
       "    <tr>\n",
       "      <th>count</th>\n",
       "      <td>71.0</td>\n",
       "      <td>71.000000</td>\n",
       "      <td>71.000000</td>\n",
       "      <td>71.000000</td>\n",
       "      <td>71.000000</td>\n",
       "      <td>71.000000</td>\n",
       "      <td>71.000000</td>\n",
       "      <td>71.000000</td>\n",
       "      <td>71.000000</td>\n",
       "    </tr>\n",
       "    <tr>\n",
       "      <th>mean</th>\n",
       "      <td>0.0</td>\n",
       "      <td>0.154930</td>\n",
       "      <td>1.746479</td>\n",
       "      <td>0.595070</td>\n",
       "      <td>3.140845</td>\n",
       "      <td>5.690141</td>\n",
       "      <td>2.295775</td>\n",
       "      <td>0.197183</td>\n",
       "      <td>0.422535</td>\n",
       "    </tr>\n",
       "    <tr>\n",
       "      <th>std</th>\n",
       "      <td>0.0</td>\n",
       "      <td>0.364413</td>\n",
       "      <td>0.731306</td>\n",
       "      <td>0.268386</td>\n",
       "      <td>1.323370</td>\n",
       "      <td>1.736923</td>\n",
       "      <td>0.781836</td>\n",
       "      <td>0.400704</td>\n",
       "      <td>0.497479</td>\n",
       "    </tr>\n",
       "    <tr>\n",
       "      <th>min</th>\n",
       "      <td>0.0</td>\n",
       "      <td>0.000000</td>\n",
       "      <td>1.000000</td>\n",
       "      <td>0.000000</td>\n",
       "      <td>1.000000</td>\n",
       "      <td>3.000000</td>\n",
       "      <td>1.000000</td>\n",
       "      <td>0.000000</td>\n",
       "      <td>0.000000</td>\n",
       "    </tr>\n",
       "    <tr>\n",
       "      <th>25%</th>\n",
       "      <td>0.0</td>\n",
       "      <td>0.000000</td>\n",
       "      <td>1.000000</td>\n",
       "      <td>0.385000</td>\n",
       "      <td>2.000000</td>\n",
       "      <td>4.500000</td>\n",
       "      <td>2.000000</td>\n",
       "      <td>0.000000</td>\n",
       "      <td>0.000000</td>\n",
       "    </tr>\n",
       "    <tr>\n",
       "      <th>50%</th>\n",
       "      <td>0.0</td>\n",
       "      <td>0.000000</td>\n",
       "      <td>2.000000</td>\n",
       "      <td>0.590000</td>\n",
       "      <td>3.000000</td>\n",
       "      <td>6.000000</td>\n",
       "      <td>2.000000</td>\n",
       "      <td>0.000000</td>\n",
       "      <td>0.000000</td>\n",
       "    </tr>\n",
       "    <tr>\n",
       "      <th>75%</th>\n",
       "      <td>0.0</td>\n",
       "      <td>0.000000</td>\n",
       "      <td>2.000000</td>\n",
       "      <td>0.845000</td>\n",
       "      <td>4.000000</td>\n",
       "      <td>6.000000</td>\n",
       "      <td>3.000000</td>\n",
       "      <td>0.000000</td>\n",
       "      <td>1.000000</td>\n",
       "    </tr>\n",
       "    <tr>\n",
       "      <th>max</th>\n",
       "      <td>0.0</td>\n",
       "      <td>1.000000</td>\n",
       "      <td>3.000000</td>\n",
       "      <td>1.000000</td>\n",
       "      <td>6.000000</td>\n",
       "      <td>9.000000</td>\n",
       "      <td>3.000000</td>\n",
       "      <td>1.000000</td>\n",
       "      <td>1.000000</td>\n",
       "    </tr>\n",
       "  </tbody>\n",
       "</table>\n",
       "</div>"
      ],
      "text/plain": [
       "       Confusion     Design      PType      Ratio  Distinctive        Sum  \\\n",
       "count       71.0  71.000000  71.000000  71.000000    71.000000  71.000000   \n",
       "mean         0.0   0.154930   1.746479   0.595070     3.140845   5.690141   \n",
       "std          0.0   0.364413   0.731306   0.268386     1.323370   1.736923   \n",
       "min          0.0   0.000000   1.000000   0.000000     1.000000   3.000000   \n",
       "25%          0.0   0.000000   1.000000   0.385000     2.000000   4.500000   \n",
       "50%          0.0   0.000000   2.000000   0.590000     3.000000   6.000000   \n",
       "75%          0.0   0.000000   2.000000   0.845000     4.000000   6.000000   \n",
       "max          0.0   1.000000   3.000000   1.000000     6.000000   9.000000   \n",
       "\n",
       "           Goods  DisclaimerCOP  DisclaimerAR  \n",
       "count  71.000000      71.000000     71.000000  \n",
       "mean    2.295775       0.197183      0.422535  \n",
       "std     0.781836       0.400704      0.497479  \n",
       "min     1.000000       0.000000      0.000000  \n",
       "25%     2.000000       0.000000      0.000000  \n",
       "50%     2.000000       0.000000      0.000000  \n",
       "75%     3.000000       0.000000      1.000000  \n",
       "max     3.000000       1.000000      1.000000  "
      ]
     },
     "execution_count": 8,
     "metadata": {},
     "output_type": "execute_result"
    }
   ],
   "source": [
    "dfnc.describe()"
   ]
  },
  {
   "cell_type": "code",
   "execution_count": 9,
   "metadata": {},
   "outputs": [],
   "source": [
    "dfc = df.loc[df['Confusion'] == 1]"
   ]
  },
  {
   "cell_type": "code",
   "execution_count": 10,
   "metadata": {},
   "outputs": [
    {
     "data": {
      "text/html": [
       "<div>\n",
       "<style scoped>\n",
       "    .dataframe tbody tr th:only-of-type {\n",
       "        vertical-align: middle;\n",
       "    }\n",
       "\n",
       "    .dataframe tbody tr th {\n",
       "        vertical-align: top;\n",
       "    }\n",
       "\n",
       "    .dataframe thead th {\n",
       "        text-align: right;\n",
       "    }\n",
       "</style>\n",
       "<table border=\"1\" class=\"dataframe\">\n",
       "  <thead>\n",
       "    <tr style=\"text-align: right;\">\n",
       "      <th></th>\n",
       "      <th>Confusion</th>\n",
       "      <th>Design</th>\n",
       "      <th>PType</th>\n",
       "      <th>Ratio</th>\n",
       "      <th>Distinctive</th>\n",
       "      <th>Sum</th>\n",
       "      <th>Goods</th>\n",
       "      <th>DisclaimerCOP</th>\n",
       "      <th>DisclaimerAR</th>\n",
       "    </tr>\n",
       "  </thead>\n",
       "  <tbody>\n",
       "    <tr>\n",
       "      <th>count</th>\n",
       "      <td>251.0</td>\n",
       "      <td>251.000000</td>\n",
       "      <td>251.000000</td>\n",
       "      <td>251.000000</td>\n",
       "      <td>251.000000</td>\n",
       "      <td>251.000000</td>\n",
       "      <td>251.000000</td>\n",
       "      <td>251.000000</td>\n",
       "      <td>251.000000</td>\n",
       "    </tr>\n",
       "    <tr>\n",
       "      <th>mean</th>\n",
       "      <td>1.0</td>\n",
       "      <td>0.075697</td>\n",
       "      <td>1.314741</td>\n",
       "      <td>0.659522</td>\n",
       "      <td>3.115538</td>\n",
       "      <td>6.573705</td>\n",
       "      <td>2.418327</td>\n",
       "      <td>0.274900</td>\n",
       "      <td>0.342629</td>\n",
       "    </tr>\n",
       "    <tr>\n",
       "      <th>std</th>\n",
       "      <td>0.0</td>\n",
       "      <td>0.265042</td>\n",
       "      <td>0.573186</td>\n",
       "      <td>0.253381</td>\n",
       "      <td>1.080091</td>\n",
       "      <td>1.421811</td>\n",
       "      <td>0.684327</td>\n",
       "      <td>0.447356</td>\n",
       "      <td>0.475537</td>\n",
       "    </tr>\n",
       "    <tr>\n",
       "      <th>min</th>\n",
       "      <td>1.0</td>\n",
       "      <td>0.000000</td>\n",
       "      <td>1.000000</td>\n",
       "      <td>0.070000</td>\n",
       "      <td>1.000000</td>\n",
       "      <td>3.000000</td>\n",
       "      <td>1.000000</td>\n",
       "      <td>0.000000</td>\n",
       "      <td>0.000000</td>\n",
       "    </tr>\n",
       "    <tr>\n",
       "      <th>25%</th>\n",
       "      <td>1.0</td>\n",
       "      <td>0.000000</td>\n",
       "      <td>1.000000</td>\n",
       "      <td>0.475000</td>\n",
       "      <td>2.000000</td>\n",
       "      <td>6.000000</td>\n",
       "      <td>2.000000</td>\n",
       "      <td>0.000000</td>\n",
       "      <td>0.000000</td>\n",
       "    </tr>\n",
       "    <tr>\n",
       "      <th>50%</th>\n",
       "      <td>1.0</td>\n",
       "      <td>0.000000</td>\n",
       "      <td>1.000000</td>\n",
       "      <td>0.650000</td>\n",
       "      <td>3.000000</td>\n",
       "      <td>6.000000</td>\n",
       "      <td>3.000000</td>\n",
       "      <td>0.000000</td>\n",
       "      <td>0.000000</td>\n",
       "    </tr>\n",
       "    <tr>\n",
       "      <th>75%</th>\n",
       "      <td>1.0</td>\n",
       "      <td>0.000000</td>\n",
       "      <td>2.000000</td>\n",
       "      <td>0.900000</td>\n",
       "      <td>4.000000</td>\n",
       "      <td>7.000000</td>\n",
       "      <td>3.000000</td>\n",
       "      <td>1.000000</td>\n",
       "      <td>1.000000</td>\n",
       "    </tr>\n",
       "    <tr>\n",
       "      <th>max</th>\n",
       "      <td>1.0</td>\n",
       "      <td>1.000000</td>\n",
       "      <td>3.000000</td>\n",
       "      <td>1.000000</td>\n",
       "      <td>6.000000</td>\n",
       "      <td>9.000000</td>\n",
       "      <td>3.000000</td>\n",
       "      <td>1.000000</td>\n",
       "      <td>1.000000</td>\n",
       "    </tr>\n",
       "  </tbody>\n",
       "</table>\n",
       "</div>"
      ],
      "text/plain": [
       "       Confusion      Design       PType       Ratio  Distinctive         Sum  \\\n",
       "count      251.0  251.000000  251.000000  251.000000   251.000000  251.000000   \n",
       "mean         1.0    0.075697    1.314741    0.659522     3.115538    6.573705   \n",
       "std          0.0    0.265042    0.573186    0.253381     1.080091    1.421811   \n",
       "min          1.0    0.000000    1.000000    0.070000     1.000000    3.000000   \n",
       "25%          1.0    0.000000    1.000000    0.475000     2.000000    6.000000   \n",
       "50%          1.0    0.000000    1.000000    0.650000     3.000000    6.000000   \n",
       "75%          1.0    0.000000    2.000000    0.900000     4.000000    7.000000   \n",
       "max          1.0    1.000000    3.000000    1.000000     6.000000    9.000000   \n",
       "\n",
       "            Goods  DisclaimerCOP  DisclaimerAR  \n",
       "count  251.000000     251.000000    251.000000  \n",
       "mean     2.418327       0.274900      0.342629  \n",
       "std      0.684327       0.447356      0.475537  \n",
       "min      1.000000       0.000000      0.000000  \n",
       "25%      2.000000       0.000000      0.000000  \n",
       "50%      3.000000       0.000000      0.000000  \n",
       "75%      3.000000       1.000000      1.000000  \n",
       "max      3.000000       1.000000      1.000000  "
      ]
     },
     "execution_count": 10,
     "metadata": {},
     "output_type": "execute_result"
    }
   ],
   "source": [
    "dfc.describe()"
   ]
  },
  {
   "cell_type": "code",
   "execution_count": 11,
   "metadata": {},
   "outputs": [
    {
     "data": {
      "text/html": [
       "<div>\n",
       "<style scoped>\n",
       "    .dataframe tbody tr th:only-of-type {\n",
       "        vertical-align: middle;\n",
       "    }\n",
       "\n",
       "    .dataframe tbody tr th {\n",
       "        vertical-align: top;\n",
       "    }\n",
       "\n",
       "    .dataframe thead th {\n",
       "        text-align: right;\n",
       "    }\n",
       "</style>\n",
       "<table border=\"1\" class=\"dataframe\">\n",
       "  <thead>\n",
       "    <tr style=\"text-align: right;\">\n",
       "      <th></th>\n",
       "      <th>Confusion</th>\n",
       "      <th>Design</th>\n",
       "      <th>PType</th>\n",
       "      <th>Ratio</th>\n",
       "      <th>Distinctive</th>\n",
       "      <th>Sum</th>\n",
       "      <th>Goods</th>\n",
       "      <th>DisclaimerCOP</th>\n",
       "      <th>DisclaimerAR</th>\n",
       "    </tr>\n",
       "  </thead>\n",
       "  <tbody>\n",
       "    <tr>\n",
       "      <th>Confusion</th>\n",
       "      <td>1.000000</td>\n",
       "      <td>-0.113010</td>\n",
       "      <td>-0.281821</td>\n",
       "      <td>0.103837</td>\n",
       "      <td>-0.009250</td>\n",
       "      <td>0.238470</td>\n",
       "      <td>0.071921</td>\n",
       "      <td>0.073662</td>\n",
       "      <td>-0.069005</td>\n",
       "    </tr>\n",
       "    <tr>\n",
       "      <th>Design</th>\n",
       "      <td>-0.113010</td>\n",
       "      <td>1.000000</td>\n",
       "      <td>0.028630</td>\n",
       "      <td>-0.212968</td>\n",
       "      <td>-0.109583</td>\n",
       "      <td>-0.134705</td>\n",
       "      <td>0.034194</td>\n",
       "      <td>0.079804</td>\n",
       "      <td>0.182331</td>\n",
       "    </tr>\n",
       "    <tr>\n",
       "      <th>PType</th>\n",
       "      <td>-0.281821</td>\n",
       "      <td>0.028630</td>\n",
       "      <td>1.000000</td>\n",
       "      <td>0.052426</td>\n",
       "      <td>0.099205</td>\n",
       "      <td>-0.038239</td>\n",
       "      <td>0.030094</td>\n",
       "      <td>-0.078531</td>\n",
       "      <td>0.075853</td>\n",
       "    </tr>\n",
       "    <tr>\n",
       "      <th>Ratio</th>\n",
       "      <td>0.103837</td>\n",
       "      <td>-0.212968</td>\n",
       "      <td>0.052426</td>\n",
       "      <td>1.000000</td>\n",
       "      <td>0.056528</td>\n",
       "      <td>0.663745</td>\n",
       "      <td>-0.133920</td>\n",
       "      <td>-0.306283</td>\n",
       "      <td>-0.417205</td>\n",
       "    </tr>\n",
       "    <tr>\n",
       "      <th>Distinctive</th>\n",
       "      <td>-0.009250</td>\n",
       "      <td>-0.109583</td>\n",
       "      <td>0.099205</td>\n",
       "      <td>0.056528</td>\n",
       "      <td>1.000000</td>\n",
       "      <td>0.007528</td>\n",
       "      <td>-0.028141</td>\n",
       "      <td>-0.119262</td>\n",
       "      <td>-0.137161</td>\n",
       "    </tr>\n",
       "    <tr>\n",
       "      <th>Sum</th>\n",
       "      <td>0.238470</td>\n",
       "      <td>-0.134705</td>\n",
       "      <td>-0.038239</td>\n",
       "      <td>0.663745</td>\n",
       "      <td>0.007528</td>\n",
       "      <td>1.000000</td>\n",
       "      <td>-0.219620</td>\n",
       "      <td>-0.186954</td>\n",
       "      <td>-0.252472</td>\n",
       "    </tr>\n",
       "    <tr>\n",
       "      <th>Goods</th>\n",
       "      <td>0.071921</td>\n",
       "      <td>0.034194</td>\n",
       "      <td>0.030094</td>\n",
       "      <td>-0.133920</td>\n",
       "      <td>-0.028141</td>\n",
       "      <td>-0.219620</td>\n",
       "      <td>1.000000</td>\n",
       "      <td>0.125850</td>\n",
       "      <td>-0.021898</td>\n",
       "    </tr>\n",
       "    <tr>\n",
       "      <th>DisclaimerCOP</th>\n",
       "      <td>0.073662</td>\n",
       "      <td>0.079804</td>\n",
       "      <td>-0.078531</td>\n",
       "      <td>-0.306283</td>\n",
       "      <td>-0.119262</td>\n",
       "      <td>-0.186954</td>\n",
       "      <td>0.125850</td>\n",
       "      <td>1.000000</td>\n",
       "      <td>0.267682</td>\n",
       "    </tr>\n",
       "    <tr>\n",
       "      <th>DisclaimerAR</th>\n",
       "      <td>-0.069005</td>\n",
       "      <td>0.182331</td>\n",
       "      <td>0.075853</td>\n",
       "      <td>-0.417205</td>\n",
       "      <td>-0.137161</td>\n",
       "      <td>-0.252472</td>\n",
       "      <td>-0.021898</td>\n",
       "      <td>0.267682</td>\n",
       "      <td>1.000000</td>\n",
       "    </tr>\n",
       "  </tbody>\n",
       "</table>\n",
       "</div>"
      ],
      "text/plain": [
       "               Confusion    Design     PType     Ratio  Distinctive       Sum  \\\n",
       "Confusion       1.000000 -0.113010 -0.281821  0.103837    -0.009250  0.238470   \n",
       "Design         -0.113010  1.000000  0.028630 -0.212968    -0.109583 -0.134705   \n",
       "PType          -0.281821  0.028630  1.000000  0.052426     0.099205 -0.038239   \n",
       "Ratio           0.103837 -0.212968  0.052426  1.000000     0.056528  0.663745   \n",
       "Distinctive    -0.009250 -0.109583  0.099205  0.056528     1.000000  0.007528   \n",
       "Sum             0.238470 -0.134705 -0.038239  0.663745     0.007528  1.000000   \n",
       "Goods           0.071921  0.034194  0.030094 -0.133920    -0.028141 -0.219620   \n",
       "DisclaimerCOP   0.073662  0.079804 -0.078531 -0.306283    -0.119262 -0.186954   \n",
       "DisclaimerAR   -0.069005  0.182331  0.075853 -0.417205    -0.137161 -0.252472   \n",
       "\n",
       "                  Goods  DisclaimerCOP  DisclaimerAR  \n",
       "Confusion      0.071921       0.073662     -0.069005  \n",
       "Design         0.034194       0.079804      0.182331  \n",
       "PType          0.030094      -0.078531      0.075853  \n",
       "Ratio         -0.133920      -0.306283     -0.417205  \n",
       "Distinctive   -0.028141      -0.119262     -0.137161  \n",
       "Sum           -0.219620      -0.186954     -0.252472  \n",
       "Goods          1.000000       0.125850     -0.021898  \n",
       "DisclaimerCOP  0.125850       1.000000      0.267682  \n",
       "DisclaimerAR  -0.021898       0.267682      1.000000  "
      ]
     },
     "execution_count": 11,
     "metadata": {},
     "output_type": "execute_result"
    }
   ],
   "source": [
    "df.corr()"
   ]
  },
  {
   "cell_type": "code",
   "execution_count": 14,
   "metadata": {},
   "outputs": [],
   "source": [
    "df2 = pd.read_csv('even.csv', encoding= 'unicode_escape') #This removes confusion findings to balance the dataset."
   ]
  },
  {
   "cell_type": "code",
   "execution_count": 15,
   "metadata": {},
   "outputs": [
    {
     "data": {
      "text/plain": [
       "(143, 9)"
      ]
     },
     "execution_count": 15,
     "metadata": {},
     "output_type": "execute_result"
    }
   ],
   "source": [
    "df2.shape #see number decrease."
   ]
  },
  {
   "cell_type": "code",
   "execution_count": 16,
   "metadata": {},
   "outputs": [],
   "source": [
    "labels = df2['Confusion']\n",
    "data = df2[['Design', 'PType', 'SSM_Sum', 'Ratio']] #These are the features that performed the best after much trial/error"
   ]
  },
  {
   "cell_type": "code",
   "execution_count": 17,
   "metadata": {},
   "outputs": [
    {
     "name": "stdout",
     "output_type": "stream",
     "text": [
      "[-0.30265996  0.71125578 -1.91856689 -0.77163665]\n"
     ]
    }
   ],
   "source": [
    "from sklearn.preprocessing import scale\n",
    "scaled_data = scale(data, axis = 0)\n",
    "print(scaled_data[0])"
   ]
  },
  {
   "cell_type": "code",
   "execution_count": 18,
   "metadata": {},
   "outputs": [],
   "source": [
    "from sklearn.model_selection import train_test_split\n",
    "training_data, validation_data, training_labels, validation_labels = train_test_split(scaled_data, labels, train_size = 0.8, test_size = 0.2, random_state = 1)"
   ]
  },
  {
   "cell_type": "code",
   "execution_count": 19,
   "metadata": {},
   "outputs": [
    {
     "name": "stdout",
     "output_type": "stream",
     "text": [
      "Train_Shape: (114, 4)\n",
      "Validation_Shape (29, 4)\n"
     ]
    }
   ],
   "source": [
    "print('Train_Shape:', training_data.shape)\n",
    "print('Validation_Shape',validation_data.shape)"
   ]
  },
  {
   "cell_type": "code",
   "execution_count": 20,
   "metadata": {},
   "outputs": [],
   "source": [
    "dataframe = pd.DataFrame(training_data, columns=data.columns)"
   ]
  },
  {
   "cell_type": "code",
   "execution_count": 21,
   "metadata": {},
   "outputs": [
    {
     "data": {
      "text/html": [
       "<div>\n",
       "<style scoped>\n",
       "    .dataframe tbody tr th:only-of-type {\n",
       "        vertical-align: middle;\n",
       "    }\n",
       "\n",
       "    .dataframe tbody tr th {\n",
       "        vertical-align: top;\n",
       "    }\n",
       "\n",
       "    .dataframe thead th {\n",
       "        text-align: right;\n",
       "    }\n",
       "</style>\n",
       "<table border=\"1\" class=\"dataframe\">\n",
       "  <thead>\n",
       "    <tr style=\"text-align: right;\">\n",
       "      <th></th>\n",
       "      <th>Design</th>\n",
       "      <th>PType</th>\n",
       "      <th>SSM_Sum</th>\n",
       "      <th>Ratio</th>\n",
       "    </tr>\n",
       "  </thead>\n",
       "  <tbody>\n",
       "    <tr>\n",
       "      <th>0</th>\n",
       "      <td>-0.30266</td>\n",
       "      <td>-0.741738</td>\n",
       "      <td>-0.068982</td>\n",
       "      <td>0.281408</td>\n",
       "    </tr>\n",
       "    <tr>\n",
       "      <th>1</th>\n",
       "      <td>-0.30266</td>\n",
       "      <td>2.164250</td>\n",
       "      <td>-0.068982</td>\n",
       "      <td>1.033583</td>\n",
       "    </tr>\n",
       "    <tr>\n",
       "      <th>2</th>\n",
       "      <td>-0.30266</td>\n",
       "      <td>-0.741738</td>\n",
       "      <td>-0.685510</td>\n",
       "      <td>-0.245114</td>\n",
       "    </tr>\n",
       "    <tr>\n",
       "      <th>3</th>\n",
       "      <td>-0.30266</td>\n",
       "      <td>-0.741738</td>\n",
       "      <td>-0.068982</td>\n",
       "      <td>-0.395549</td>\n",
       "    </tr>\n",
       "    <tr>\n",
       "      <th>4</th>\n",
       "      <td>-0.30266</td>\n",
       "      <td>-0.741738</td>\n",
       "      <td>-0.685510</td>\n",
       "      <td>-0.057071</td>\n",
       "    </tr>\n",
       "    <tr>\n",
       "      <th>5</th>\n",
       "      <td>-0.30266</td>\n",
       "      <td>-0.741738</td>\n",
       "      <td>-0.068982</td>\n",
       "      <td>-0.884463</td>\n",
       "    </tr>\n",
       "    <tr>\n",
       "      <th>6</th>\n",
       "      <td>-0.30266</td>\n",
       "      <td>0.711256</td>\n",
       "      <td>-0.068982</td>\n",
       "      <td>-1.410985</td>\n",
       "    </tr>\n",
       "    <tr>\n",
       "      <th>7</th>\n",
       "      <td>-0.30266</td>\n",
       "      <td>2.164250</td>\n",
       "      <td>-0.068982</td>\n",
       "      <td>0.469452</td>\n",
       "    </tr>\n",
       "    <tr>\n",
       "      <th>8</th>\n",
       "      <td>-0.30266</td>\n",
       "      <td>-0.741738</td>\n",
       "      <td>-0.068982</td>\n",
       "      <td>-0.019462</td>\n",
       "    </tr>\n",
       "    <tr>\n",
       "      <th>9</th>\n",
       "      <td>-0.30266</td>\n",
       "      <td>-0.741738</td>\n",
       "      <td>-0.068982</td>\n",
       "      <td>-0.019462</td>\n",
       "    </tr>\n",
       "  </tbody>\n",
       "</table>\n",
       "</div>"
      ],
      "text/plain": [
       "    Design     PType   SSM_Sum     Ratio\n",
       "0 -0.30266 -0.741738 -0.068982  0.281408\n",
       "1 -0.30266  2.164250 -0.068982  1.033583\n",
       "2 -0.30266 -0.741738 -0.685510 -0.245114\n",
       "3 -0.30266 -0.741738 -0.068982 -0.395549\n",
       "4 -0.30266 -0.741738 -0.685510 -0.057071\n",
       "5 -0.30266 -0.741738 -0.068982 -0.884463\n",
       "6 -0.30266  0.711256 -0.068982 -1.410985\n",
       "7 -0.30266  2.164250 -0.068982  0.469452\n",
       "8 -0.30266 -0.741738 -0.068982 -0.019462\n",
       "9 -0.30266 -0.741738 -0.068982 -0.019462"
      ]
     },
     "execution_count": 21,
     "metadata": {},
     "output_type": "execute_result"
    }
   ],
   "source": [
    "dataframe.head(10)"
   ]
  },
  {
   "cell_type": "code",
   "execution_count": 22,
   "metadata": {},
   "outputs": [
    {
     "data": {
      "text/plain": [
       "array([[<AxesSubplot:xlabel='Design', ylabel='Design'>,\n",
       "        <AxesSubplot:xlabel='PType', ylabel='Design'>,\n",
       "        <AxesSubplot:xlabel='SSM_Sum', ylabel='Design'>,\n",
       "        <AxesSubplot:xlabel='Ratio', ylabel='Design'>],\n",
       "       [<AxesSubplot:xlabel='Design', ylabel='PType'>,\n",
       "        <AxesSubplot:xlabel='PType', ylabel='PType'>,\n",
       "        <AxesSubplot:xlabel='SSM_Sum', ylabel='PType'>,\n",
       "        <AxesSubplot:xlabel='Ratio', ylabel='PType'>],\n",
       "       [<AxesSubplot:xlabel='Design', ylabel='SSM_Sum'>,\n",
       "        <AxesSubplot:xlabel='PType', ylabel='SSM_Sum'>,\n",
       "        <AxesSubplot:xlabel='SSM_Sum', ylabel='SSM_Sum'>,\n",
       "        <AxesSubplot:xlabel='Ratio', ylabel='SSM_Sum'>],\n",
       "       [<AxesSubplot:xlabel='Design', ylabel='Ratio'>,\n",
       "        <AxesSubplot:xlabel='PType', ylabel='Ratio'>,\n",
       "        <AxesSubplot:xlabel='SSM_Sum', ylabel='Ratio'>,\n",
       "        <AxesSubplot:xlabel='Ratio', ylabel='Ratio'>]], dtype=object)"
      ]
     },
     "execution_count": 22,
     "metadata": {},
     "output_type": "execute_result"
    },
    {
     "data": {
      "image/png": "[encoded data removed]",
      "text/plain": [
       "<Figure size 1440x1440 with 16 Axes>"
      ]
     },
     "metadata": {
      "needs_background": "light"
     },
     "output_type": "display_data"
    }
   ],
   "source": [
    "pd.plotting.scatter_matrix(dataframe, c=training_labels, figsize=(20, 20), marker='o', hist_kwds={'bins':20}, alpha=.8, cmap=mglearn.cm3)"
   ]
  },
  {
   "cell_type": "code",
   "execution_count": 23,
   "metadata": {},
   "outputs": [
    {
     "name": "stdout",
     "output_type": "stream",
     "text": [
      "0.8275862068965517\n"
     ]
    }
   ],
   "source": [
    "from sklearn.neighbors import KNeighborsClassifier\n",
    "classifier = KNeighborsClassifier(n_neighbors = 5)\n",
    "classifier.fit(training_data, training_labels)\n",
    "print(classifier.score(validation_data, validation_labels))\n",
    "#5 neighbors seems to be the sweet spot"
   ]
  },
  {
   "cell_type": "code",
   "execution_count": 35,
   "metadata": {},
   "outputs": [
    {
     "data": {
      "text/plain": [
       "0.8064516129032258"
      ]
     },
     "execution_count": 35,
     "metadata": {},
     "output_type": "execute_result"
    }
   ],
   "source": [
    "#randomforest with dataset that increased the number of non-confusing examples to balance the set\n",
    "even = pd.read_csv('NewTTAB.csv', encoding= 'unicode_escape')\n",
    "labels = even['Confusion']\n",
    "data = even[['Design', 'PType', 'SSM_Sum', 'Ratio']]\n",
    "scaled_data = scale(data, axis = 0)\n",
    "from sklearn.model_selection import train_test_split\n",
    "from sklearn import tree\n",
    "from sklearn.ensemble import RandomForestClassifier\n",
    "X_train, X_test, y_train, y_test = train_test_split(scaled_data, labels, train_size = 0.8, test_size = 0.2, random_state = 1)\n",
    "forest = RandomForestClassifier(random_state = 1)\n",
    "forest.fit(X_train, y_train)\n",
    "y_pred_test = forest.predict(X_test)\n",
    "accuracy_score(y_test, y_pred_test)"
   ]
  },
  {
   "cell_type": "code",
   "execution_count": 36,
   "metadata": {},
   "outputs": [
    {
     "data": {
      "text/plain": [
       "array([[36,  8],\n",
       "       [10, 39]], dtype=int64)"
      ]
     },
     "execution_count": 36,
     "metadata": {},
     "output_type": "execute_result"
    }
   ],
   "source": [
    "confusion_matrix(y_test, y_pred_test)"
   ]
  },
  {
   "cell_type": "code",
   "execution_count": 39,
   "metadata": {},
   "outputs": [
    {
     "data": {
      "image/png": "[encoded data removed]",
      "text/plain": [
       "<Figure size 1440x720 with 2 Axes>"
      ]
     },
     "metadata": {},
     "output_type": "display_data"
    }
   ],
   "source": [
    "import matplotlib.pyplot as plt\n",
    "import seaborn as sns\n",
    "\n",
    "matrix = confusion_matrix(y_test, y_pred_test)\n",
    "matrix = matrix.astype('float') / matrix.sum(axis=1)[:, np.newaxis]\n",
    "\n",
    "# Build the plot\n",
    "plt.figure(figsize=(20,10))\n",
    "sns.set(font_scale=1.4)\n",
    "sns.heatmap(matrix, annot=True, annot_kws={'size':10},\n",
    "            cmap=plt.cm.Blues, linewidths=0.2)\n",
    "\n",
    "# Add labels to the plot\n",
    "class_names = ['Not Confusing','Confusing']\n",
    "tick_marks = np.arange(len(class_names))\n",
    "tick_marks2 = tick_marks + 0.5\n",
    "plt.xticks(tick_marks, class_names, rotation=25)\n",
    "plt.yticks(tick_marks2, class_names, rotation=0)\n",
    "plt.xlabel('Predicted label')\n",
    "plt.ylabel('True label')\n",
    "plt.title('Confusion Matrix for Random Forest Model')\n",
    "plt.show()"
   ]
  },
  {
   "cell_type": "code",
   "execution_count": 38,
   "metadata": {},
   "outputs": [
    {
     "name": "stdout",
     "output_type": "stream",
     "text": [
      "              precision    recall  f1-score   support\n",
      "\n",
      "           0       0.78      0.82      0.80        44\n",
      "           1       0.83      0.80      0.81        49\n",
      "\n",
      "    accuracy                           0.81        93\n",
      "   macro avg       0.81      0.81      0.81        93\n",
      "weighted avg       0.81      0.81      0.81        93\n",
      "\n"
     ]
    }
   ],
   "source": [
    "print(classification_report(y_test, y_pred_test))"
   ]
  },
  {
   "cell_type": "code",
   "execution_count": null,
   "metadata": {},
   "outputs": [],
   "source": []
  }
 ],
 "metadata": {
  "kernelspec": {
   "display_name": "Python 3",
   "language": "python",
   "name": "python3"
  },
  "language_info": {
   "codemirror_mode": {
    "name": "ipython",
    "version": 3
   },
   "file_extension": ".py",
   "mimetype": "text/x-python",
   "name": "python",
   "nbconvert_exporter": "python",
   "pygments_lexer": "ipython3",
   "version": "3.8.5"
  }
 },
 "nbformat": 4,
 "nbformat_minor": 4
}
